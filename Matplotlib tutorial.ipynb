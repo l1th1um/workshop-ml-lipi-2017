{
 "cells": [
  {
   "cell_type": "markdown",
   "metadata": {},
   "source": [
    "# Training Python for Data Science\n",
    "\n",
    "<div class=\"alert alert-block alert-success\">\n",
    "   Hotel Grand Tjokro, 12 Desember 2017\n",
    "</div>"
   ]
  },
  {
   "cell_type": "code",
   "execution_count": null,
   "metadata": {
    "collapsed": true
   },
   "outputs": [],
   "source": [
    "import matplotlib.pyplot as plt\n",
    "import numpy as np"
   ]
  },
  {
   "cell_type": "code",
   "execution_count": null,
   "metadata": {},
   "outputs": [],
   "source": [
    "# Prepare the data\n",
    "x = [1,2,3,4]\n",
    "y = [20, 21, 20.5, 20.8]\n",
    "\n",
    "# Plot the data\n",
    "plt.plot(x, y)\n",
    "\n",
    "# Add a legend\n",
    "plt.legend()\n",
    "\n",
    "# Show the plot\n",
    "plt.show()"
   ]
  },
  {
   "cell_type": "code",
   "execution_count": null,
   "metadata": {},
   "outputs": [],
   "source": [
    "# Prepare the data\n",
    "x = [1,2,3,4]\n",
    "y = [20, 21, 20.5, 20.8]\n",
    "\n",
    "# Plot the data\n",
    "plt.plot(x, y, label='Data Penjualan')\n",
    "\n",
    "# Add a legend\n",
    "plt.legend()\n",
    "\n",
    "# Show the plot\n",
    "plt.show()"
   ]
  },
  {
   "cell_type": "code",
   "execution_count": null,
   "metadata": {},
   "outputs": [],
   "source": [
    "plt.plot([1, 2, 3, 4], [10, 20, 25, 30], color='lightblue', linewidth=3)\n",
    "plt.scatter([0.3, 3.8, 1.2, 2.5], [11, 25, 9, 26], color='darkgreen', marker='o')\n",
    "plt.xlim(0.5, 4.5)\n",
    "plt.show()"
   ]
  },
  {
   "cell_type": "code",
   "execution_count": null,
   "metadata": {},
   "outputs": [],
   "source": [
    "x = [5,2,7]\n",
    "y = [2,16,4]\n",
    "plt.plot(x,y)\n",
    "plt.title('Info')\n",
    "plt.ylabel('Y axis')\n",
    "plt.xlabel('X axis')\n",
    "plt.grid(False)\n",
    "plt.show()"
   ]
  },
  {
   "cell_type": "markdown",
   "metadata": {},
   "source": [
    "## Styling"
   ]
  },
  {
   "cell_type": "code",
   "execution_count": null,
   "metadata": {},
   "outputs": [],
   "source": [
    "from matplotlib import style\n",
    " \n",
    "style.use('ggplot')\n",
    "x = [5,2,7]\n",
    "y = [2,16,4]\n",
    "plt.plot(x,y)\n",
    "plt.title('Info')\n",
    "plt.ylabel('Y axis')\n",
    "plt.xlabel('X axis')\n",
    "plt.show()"
   ]
  },
  {
   "cell_type": "code",
   "execution_count": null,
   "metadata": {},
   "outputs": [],
   "source": [
    "style.available"
   ]
  },
  {
   "cell_type": "code",
   "execution_count": null,
   "metadata": {},
   "outputs": [],
   "source": [
    "style.use('seaborn')\n",
    "x = [5,2,7]\n",
    "y = [2,16,4]\n",
    "plt.plot(x,y)\n",
    "plt.title('Info')\n",
    "plt.ylabel('Y axis')\n",
    "plt.xlabel('X axis')\n",
    "plt.show()"
   ]
  },
  {
   "cell_type": "markdown",
   "metadata": {},
   "source": [
    "## Bar Chart"
   ]
  },
  {
   "cell_type": "code",
   "execution_count": null,
   "metadata": {},
   "outputs": [],
   "source": [
    "x = ['Nuclear', 'Hydro', 'Gas', 'Oil', 'Coal', 'Biofuel']\n",
    "energy = [5, 6, 15, 22, 24, 8]\n",
    "\n",
    "x_pos = np.arange(len(x))\n",
    "\n",
    "plt.bar(x_pos, energy, color='green')\n",
    "#plt.barh(x_pos, energy, color='green')\n",
    "\n",
    "plt.xlabel(\"Energy Source\")\n",
    "plt.ylabel(\"Energy Output (GJ)\")\n",
    "plt.title(\"Energy output from various fuel sources\")\n",
    "\n",
    "plt.xticks(x_pos, x)\n",
    "#plt.yticks(x_pos, x)\n",
    "\n",
    "plt.show()"
   ]
  },
  {
   "cell_type": "markdown",
   "metadata": {},
   "source": [
    "## Pie Chart"
   ]
  },
  {
   "cell_type": "code",
   "execution_count": null,
   "metadata": {},
   "outputs": [],
   "source": [
    "labels = ['Oranges', 'Pears', 'Plums', 'Blueberries']\n",
    "quantity = [38, 45, 24, 10]\n",
    "\n",
    "colors = ['yellowgreen', 'gold', 'lightskyblue', 'lightcoral']\n",
    "\n",
    "plt.pie(quantity, labels=labels, colors=colors, \n",
    "    shadow=True, startangle=0,explode=(0,0.1,0,0))\n",
    "\n",
    "plt.axis('equal')\n",
    "\n",
    "plt.show()"
   ]
  },
  {
   "cell_type": "markdown",
   "metadata": {},
   "source": [
    "## Histogram"
   ]
  },
  {
   "cell_type": "code",
   "execution_count": null,
   "metadata": {},
   "outputs": [],
   "source": [
    "population_age = [22,55,62,45,21,22,34,42,42,4,2,102,95,85,55,110,120,70,65,55,111,115,80,75,65,54,44,43,42,48]\n",
    "num_bins = 10\n",
    "plt.hist(population_age, num_bins, histtype='bar', rwidth=0.8)\n",
    "plt.xlabel('age groups')\n",
    "plt.ylabel('Number of people')\n",
    "plt.title('Histogram')\n",
    "plt.show()"
   ]
  },
  {
   "cell_type": "code",
   "execution_count": null,
   "metadata": {},
   "outputs": [],
   "source": [
    "# Create data\n",
    "N = 60\n",
    "g1 = (0.6 + 0.6 * np.random.rand(N), np.random.rand(N))\n",
    "g2 = (0.4 + 0.3 * np.random.rand(N), 0.5*np.random.rand(N))\n",
    "g3 = (0.3 * np.random.rand(N),0.3*np.random.rand(N))\n",
    " \n",
    "data = (g1, g2, g3)\n",
    "colors = (\"red\", \"green\", \"blue\")\n",
    "groups = (\"coffee\", \"tea\", \"water\") \n",
    " \n",
    "for data, color, group in zip(data, colors, groups):\n",
    "    x, y = data\n",
    "    plt.scatter(x, y, alpha=0.8, c=color, edgecolors='none', s=10, label=group)\n",
    " \n",
    "plt.title('Matplot scatter plot')\n",
    "plt.legend(loc=0)\n",
    "plt.show()"
   ]
  },
  {
   "cell_type": "code",
   "execution_count": null,
   "metadata": {},
   "outputs": [],
   "source": [
    "x = np.linspace(0, 10, 1000)\n",
    "plt.plot(x, np.sin(x))\n",
    "plt.show()"
   ]
  },
  {
   "cell_type": "code",
   "execution_count": null,
   "metadata": {
    "collapsed": true
   },
   "outputs": [],
   "source": []
  }
 ],
 "metadata": {
  "kernelspec": {
   "display_name": "Python 3",
   "language": "python",
   "name": "python3"
  },
  "language_info": {
   "codemirror_mode": {
    "name": "ipython",
    "version": 3
   },
   "file_extension": ".py",
   "mimetype": "text/x-python",
   "name": "python",
   "nbconvert_exporter": "python",
   "pygments_lexer": "ipython3",
   "version": "3.6.1"
  }
 },
 "nbformat": 4,
 "nbformat_minor": 2
}
