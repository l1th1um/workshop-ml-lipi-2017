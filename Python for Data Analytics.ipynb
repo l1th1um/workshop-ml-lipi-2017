{
 "cells": [
  {
   "cell_type": "markdown",
   "metadata": {},
   "source": [
    "![alt text](https://www.dropbox.com/s/5hbbkuxz6xp3aov/logo_rshpc.jpeg?raw=1 \"Logo LIPI\")\n",
    "\n",
    "# Workshop HPC Tools for Machine Learning\n",
    "---"
   ]
  },
  {
   "cell_type": "markdown",
   "metadata": {},
   "source": [
    "## Python for Data Analytics"
   ]
  },
  {
   "cell_type": "markdown",
   "metadata": {},
   "source": [
    "<div class=\"alert alert-block alert-success\">\n",
    "Dataset yang digunakan adalah __German Credit Risk Data Set__ (https://www.openml.org/d/31). Format telah dirubah dari arff menjadi csv, dan untuk keperluan workshop beberapa data sengaja dihilangkan untuk keperluan pembelajaran __pre-processing__\n",
    "</div>\n",
    "\n",
    "Author: Dr. Hans Hofmann Source: [UCI](https://archive.ics.uci.edu/ml/datasets/Statlog+(German+Credit+Data)) - 1994 \n",
    "\n",
    "German Credit data \n",
    "\n",
    "This dataset classifies people described by a set of attributes as good or bad credit risks. \n",
    "\n",
    "This dataset comes with a cost matrix: \n",
    "``` \n",
    "Good Bad (predicted) \n",
    "Good 0 1 (actual) Bad 5 0 \n",
    "``` \n",
    "\n",
    "It is worse to class a customer as good when they are bad (5), than it is to class a customer as bad when they are good (1). \n",
    "\n",
    "### Attribute description \n",
    "\n",
    "1. Status of existing checking account, in Deutsche Mark. \n",
    "2. Duration in months \n",
    "3. Credit history (credits taken, paid back duly, delays, critical accounts) \n",
    "4. Purpose of the credit (car, television,...) \n",
    "5. Credit amount \n",
    "6. Status of savings account/bonds, in Deutsche Mark. \n",
    "7. Present employment, in number of years. \n",
    "8. Installment rate in percentage of disposable income \n",
    "9. Personal status (married, single,...) and sex \n",
    "10. Other debtors / guarantors \n",
    "11. Present residence since X years \n",
    "12. Property (e.g. real estate) \n",
    "13. Age in years \n",
    "14. Other installment plans (banks, stores) \n",
    "15. Housing (rent, own,...) \n",
    "16. Number of existing credits at this bank \n",
    "17. Job \n",
    "18. Number of people being liable to provide maintenance for \n",
    "19. Telephone (yes,no) \n",
    "20. Foreign worker (yes,no)"
   ]
  },
  {
   "cell_type": "code",
   "execution_count": 1,
   "metadata": {
    "collapsed": true
   },
   "outputs": [],
   "source": [
    "import os.path\n",
    "import urllib.request\n",
    "import numpy as np\n",
    "import pandas as pd\n",
    "\n",
    "df = pd.read_csv('dataset.csv')"
   ]
  },
  {
   "cell_type": "code",
   "execution_count": 2,
   "metadata": {},
   "outputs": [
    {
     "data": {
      "text/html": [
       "<div>\n",
       "<style scoped>\n",
       "    .dataframe tbody tr th:only-of-type {\n",
       "        vertical-align: middle;\n",
       "    }\n",
       "\n",
       "    .dataframe tbody tr th {\n",
       "        vertical-align: top;\n",
       "    }\n",
       "\n",
       "    .dataframe thead th {\n",
       "        text-align: right;\n",
       "    }\n",
       "</style>\n",
       "<table border=\"1\" class=\"dataframe\">\n",
       "  <thead>\n",
       "    <tr style=\"text-align: right;\">\n",
       "      <th></th>\n",
       "      <th>checking_status</th>\n",
       "      <th>duration</th>\n",
       "      <th>credit_history</th>\n",
       "      <th>purpose</th>\n",
       "      <th>credit_amount</th>\n",
       "      <th>savings_status</th>\n",
       "      <th>employment</th>\n",
       "      <th>installment_commitment</th>\n",
       "      <th>personal_status</th>\n",
       "      <th>other_parties</th>\n",
       "      <th>...</th>\n",
       "      <th>property_magnitude</th>\n",
       "      <th>age</th>\n",
       "      <th>other_payment_plans</th>\n",
       "      <th>housing</th>\n",
       "      <th>existing_credits</th>\n",
       "      <th>job</th>\n",
       "      <th>num_dependents</th>\n",
       "      <th>own_telephone</th>\n",
       "      <th>foreign_worker</th>\n",
       "      <th>class</th>\n",
       "    </tr>\n",
       "  </thead>\n",
       "  <tbody>\n",
       "    <tr>\n",
       "      <th>0</th>\n",
       "      <td>&lt;0</td>\n",
       "      <td>6</td>\n",
       "      <td>'critical/other existing credit'</td>\n",
       "      <td>radio/tv</td>\n",
       "      <td>1169.0</td>\n",
       "      <td>'no known savings'</td>\n",
       "      <td>&gt;=7</td>\n",
       "      <td>4</td>\n",
       "      <td>'male single'</td>\n",
       "      <td>none</td>\n",
       "      <td>...</td>\n",
       "      <td>'real estate'</td>\n",
       "      <td>67</td>\n",
       "      <td>none</td>\n",
       "      <td>own</td>\n",
       "      <td>2</td>\n",
       "      <td>skilled</td>\n",
       "      <td>1</td>\n",
       "      <td>yes</td>\n",
       "      <td>yes</td>\n",
       "      <td>good</td>\n",
       "    </tr>\n",
       "    <tr>\n",
       "      <th>1</th>\n",
       "      <td>0&lt;=X&lt;200</td>\n",
       "      <td>48</td>\n",
       "      <td>'existing paid'</td>\n",
       "      <td>radio/tv</td>\n",
       "      <td>5951.0</td>\n",
       "      <td>&lt;100</td>\n",
       "      <td>1&lt;=X&lt;4</td>\n",
       "      <td>2</td>\n",
       "      <td>'female div/dep/mar'</td>\n",
       "      <td>none</td>\n",
       "      <td>...</td>\n",
       "      <td>'real estate'</td>\n",
       "      <td>22</td>\n",
       "      <td>none</td>\n",
       "      <td>own</td>\n",
       "      <td>1</td>\n",
       "      <td>skilled</td>\n",
       "      <td>1</td>\n",
       "      <td>none</td>\n",
       "      <td>yes</td>\n",
       "      <td>bad</td>\n",
       "    </tr>\n",
       "    <tr>\n",
       "      <th>2</th>\n",
       "      <td>'no checking'</td>\n",
       "      <td>12</td>\n",
       "      <td>'critical/other existing credit'</td>\n",
       "      <td>education</td>\n",
       "      <td>2096.0</td>\n",
       "      <td>&lt;100</td>\n",
       "      <td>4&lt;=X&lt;7</td>\n",
       "      <td>2</td>\n",
       "      <td>'male single'</td>\n",
       "      <td>none</td>\n",
       "      <td>...</td>\n",
       "      <td>'real estate'</td>\n",
       "      <td>49</td>\n",
       "      <td>none</td>\n",
       "      <td>own</td>\n",
       "      <td>1</td>\n",
       "      <td>'unskilled resident'</td>\n",
       "      <td>2</td>\n",
       "      <td>none</td>\n",
       "      <td>yes</td>\n",
       "      <td>good</td>\n",
       "    </tr>\n",
       "    <tr>\n",
       "      <th>3</th>\n",
       "      <td>&lt;0</td>\n",
       "      <td>42</td>\n",
       "      <td>'existing paid'</td>\n",
       "      <td>furniture/equipment</td>\n",
       "      <td>7882.0</td>\n",
       "      <td>&lt;100</td>\n",
       "      <td>4&lt;=X&lt;7</td>\n",
       "      <td>2</td>\n",
       "      <td>'male single'</td>\n",
       "      <td>guarantor</td>\n",
       "      <td>...</td>\n",
       "      <td>'life insurance'</td>\n",
       "      <td>45</td>\n",
       "      <td>none</td>\n",
       "      <td>'for free'</td>\n",
       "      <td>1</td>\n",
       "      <td>skilled</td>\n",
       "      <td>2</td>\n",
       "      <td>none</td>\n",
       "      <td>yes</td>\n",
       "      <td>good</td>\n",
       "    </tr>\n",
       "    <tr>\n",
       "      <th>4</th>\n",
       "      <td>&lt;0</td>\n",
       "      <td>24</td>\n",
       "      <td>'delayed previously'</td>\n",
       "      <td>'new car'</td>\n",
       "      <td>4870.0</td>\n",
       "      <td>&lt;100</td>\n",
       "      <td>1&lt;=X&lt;4</td>\n",
       "      <td>3</td>\n",
       "      <td>'male single'</td>\n",
       "      <td>none</td>\n",
       "      <td>...</td>\n",
       "      <td>'no known property'</td>\n",
       "      <td>53</td>\n",
       "      <td>none</td>\n",
       "      <td>'for free'</td>\n",
       "      <td>2</td>\n",
       "      <td>skilled</td>\n",
       "      <td>2</td>\n",
       "      <td>none</td>\n",
       "      <td>yes</td>\n",
       "      <td>bad</td>\n",
       "    </tr>\n",
       "  </tbody>\n",
       "</table>\n",
       "<p>5 rows × 21 columns</p>\n",
       "</div>"
      ],
      "text/plain": [
       "  checking_status  duration                    credit_history  \\\n",
       "0              <0         6  'critical/other existing credit'   \n",
       "1        0<=X<200        48                   'existing paid'   \n",
       "2   'no checking'        12  'critical/other existing credit'   \n",
       "3              <0        42                   'existing paid'   \n",
       "4              <0        24              'delayed previously'   \n",
       "\n",
       "               purpose  credit_amount      savings_status employment  \\\n",
       "0             radio/tv         1169.0  'no known savings'        >=7   \n",
       "1             radio/tv         5951.0                <100     1<=X<4   \n",
       "2            education         2096.0                <100     4<=X<7   \n",
       "3  furniture/equipment         7882.0                <100     4<=X<7   \n",
       "4            'new car'         4870.0                <100     1<=X<4   \n",
       "\n",
       "   installment_commitment       personal_status other_parties  ...   \\\n",
       "0                       4         'male single'          none  ...    \n",
       "1                       2  'female div/dep/mar'          none  ...    \n",
       "2                       2         'male single'          none  ...    \n",
       "3                       2         'male single'     guarantor  ...    \n",
       "4                       3         'male single'          none  ...    \n",
       "\n",
       "    property_magnitude age  other_payment_plans     housing existing_credits  \\\n",
       "0        'real estate'  67                 none         own                2   \n",
       "1        'real estate'  22                 none         own                1   \n",
       "2        'real estate'  49                 none         own                1   \n",
       "3     'life insurance'  45                 none  'for free'                1   \n",
       "4  'no known property'  53                 none  'for free'                2   \n",
       "\n",
       "                    job num_dependents  own_telephone foreign_worker class  \n",
       "0               skilled              1            yes            yes  good  \n",
       "1               skilled              1           none            yes   bad  \n",
       "2  'unskilled resident'              2           none            yes  good  \n",
       "3               skilled              2           none            yes  good  \n",
       "4               skilled              2           none            yes   bad  \n",
       "\n",
       "[5 rows x 21 columns]"
      ]
     },
     "execution_count": 2,
     "metadata": {},
     "output_type": "execute_result"
    }
   ],
   "source": [
    "# Lihat 5 data awal\n",
    "df.head()"
   ]
  },
  {
   "cell_type": "code",
   "execution_count": 3,
   "metadata": {},
   "outputs": [
    {
     "name": "stdout",
     "output_type": "stream",
     "text": [
      "<class 'pandas.core.frame.DataFrame'>\n",
      "RangeIndex: 1000 entries, 0 to 999\n",
      "Data columns (total 21 columns):\n",
      "checking_status           1000 non-null object\n",
      "duration                  1000 non-null int64\n",
      "credit_history            978 non-null object\n",
      "purpose                   1000 non-null object\n",
      "credit_amount             976 non-null float64\n",
      "savings_status            1000 non-null object\n",
      "employment                1000 non-null object\n",
      "installment_commitment    1000 non-null int64\n",
      "personal_status           1000 non-null object\n",
      "other_parties             1000 non-null object\n",
      "residence_since           1000 non-null int64\n",
      "property_magnitude        981 non-null object\n",
      "age                       1000 non-null int64\n",
      "other_payment_plans       1000 non-null object\n",
      "housing                   1000 non-null object\n",
      "existing_credits          1000 non-null int64\n",
      "job                       1000 non-null object\n",
      "num_dependents            1000 non-null int64\n",
      "own_telephone             966 non-null object\n",
      "foreign_worker            1000 non-null object\n",
      "class                     1000 non-null object\n",
      "dtypes: float64(1), int64(6), object(14)\n",
      "memory usage: 164.1+ KB\n"
     ]
    }
   ],
   "source": [
    "# Lihat deskripsi mengenai dataframe\n",
    "df.info()"
   ]
  },
  {
   "cell_type": "markdown",
   "metadata": {},
   "source": [
    "Dari data diatas terlihat ada beberapa parameter yang mempunyai jumlah data kurang dari 1.000 (misal credit_history, credit_amount, age dan lain-lain."
   ]
  },
  {
   "cell_type": "code",
   "execution_count": 4,
   "metadata": {},
   "outputs": [
    {
     "data": {
      "text/plain": [
       "good    700\n",
       "bad     300\n",
       "Name: class, dtype: int64"
      ]
     },
     "execution_count": 4,
     "metadata": {},
     "output_type": "execute_result"
    }
   ],
   "source": [
    "df['class'].value_counts()"
   ]
  },
  {
   "cell_type": "markdown",
   "metadata": {},
   "source": [
    "##### dataframe.describe() \n",
    "---\n",
    "df.describe() akan men-generate statistic dari data, secara default hanya akan mengukur column numeric\n",
    "\n",
    "df.describe(include=[np.object]) => untuk column object\n",
    "\n",
    "[resource](https://pandas.pydata.org/pandas-docs/stable/generated/pandas.DataFrame.describe.html?highlight=describe#pandas.DataFrame.describe)\n"
   ]
  },
  {
   "cell_type": "code",
   "execution_count": 5,
   "metadata": {},
   "outputs": [
    {
     "data": {
      "text/html": [
       "<div>\n",
       "<style scoped>\n",
       "    .dataframe tbody tr th:only-of-type {\n",
       "        vertical-align: middle;\n",
       "    }\n",
       "\n",
       "    .dataframe tbody tr th {\n",
       "        vertical-align: top;\n",
       "    }\n",
       "\n",
       "    .dataframe thead th {\n",
       "        text-align: right;\n",
       "    }\n",
       "</style>\n",
       "<table border=\"1\" class=\"dataframe\">\n",
       "  <thead>\n",
       "    <tr style=\"text-align: right;\">\n",
       "      <th></th>\n",
       "      <th>duration</th>\n",
       "      <th>credit_amount</th>\n",
       "      <th>installment_commitment</th>\n",
       "      <th>residence_since</th>\n",
       "      <th>age</th>\n",
       "      <th>existing_credits</th>\n",
       "      <th>num_dependents</th>\n",
       "    </tr>\n",
       "  </thead>\n",
       "  <tbody>\n",
       "    <tr>\n",
       "      <th>count</th>\n",
       "      <td>1000.000000</td>\n",
       "      <td>976.000000</td>\n",
       "      <td>1000.000000</td>\n",
       "      <td>1000.000000</td>\n",
       "      <td>1000.000000</td>\n",
       "      <td>1000.000000</td>\n",
       "      <td>1000.000000</td>\n",
       "    </tr>\n",
       "    <tr>\n",
       "      <th>mean</th>\n",
       "      <td>20.903000</td>\n",
       "      <td>3255.975410</td>\n",
       "      <td>2.973000</td>\n",
       "      <td>2.845000</td>\n",
       "      <td>35.546000</td>\n",
       "      <td>1.407000</td>\n",
       "      <td>1.155000</td>\n",
       "    </tr>\n",
       "    <tr>\n",
       "      <th>std</th>\n",
       "      <td>12.058814</td>\n",
       "      <td>2807.759457</td>\n",
       "      <td>1.118715</td>\n",
       "      <td>1.103718</td>\n",
       "      <td>11.375469</td>\n",
       "      <td>0.577654</td>\n",
       "      <td>0.362086</td>\n",
       "    </tr>\n",
       "    <tr>\n",
       "      <th>min</th>\n",
       "      <td>4.000000</td>\n",
       "      <td>250.000000</td>\n",
       "      <td>1.000000</td>\n",
       "      <td>1.000000</td>\n",
       "      <td>19.000000</td>\n",
       "      <td>1.000000</td>\n",
       "      <td>1.000000</td>\n",
       "    </tr>\n",
       "    <tr>\n",
       "      <th>25%</th>\n",
       "      <td>12.000000</td>\n",
       "      <td>1364.000000</td>\n",
       "      <td>2.000000</td>\n",
       "      <td>2.000000</td>\n",
       "      <td>27.000000</td>\n",
       "      <td>1.000000</td>\n",
       "      <td>1.000000</td>\n",
       "    </tr>\n",
       "    <tr>\n",
       "      <th>50%</th>\n",
       "      <td>18.000000</td>\n",
       "      <td>2319.500000</td>\n",
       "      <td>3.000000</td>\n",
       "      <td>3.000000</td>\n",
       "      <td>33.000000</td>\n",
       "      <td>1.000000</td>\n",
       "      <td>1.000000</td>\n",
       "    </tr>\n",
       "    <tr>\n",
       "      <th>75%</th>\n",
       "      <td>24.000000</td>\n",
       "      <td>3965.250000</td>\n",
       "      <td>4.000000</td>\n",
       "      <td>4.000000</td>\n",
       "      <td>42.000000</td>\n",
       "      <td>2.000000</td>\n",
       "      <td>1.000000</td>\n",
       "    </tr>\n",
       "    <tr>\n",
       "      <th>max</th>\n",
       "      <td>72.000000</td>\n",
       "      <td>18424.000000</td>\n",
       "      <td>4.000000</td>\n",
       "      <td>4.000000</td>\n",
       "      <td>75.000000</td>\n",
       "      <td>4.000000</td>\n",
       "      <td>2.000000</td>\n",
       "    </tr>\n",
       "  </tbody>\n",
       "</table>\n",
       "</div>"
      ],
      "text/plain": [
       "          duration  credit_amount  installment_commitment  residence_since  \\\n",
       "count  1000.000000     976.000000             1000.000000      1000.000000   \n",
       "mean     20.903000    3255.975410                2.973000         2.845000   \n",
       "std      12.058814    2807.759457                1.118715         1.103718   \n",
       "min       4.000000     250.000000                1.000000         1.000000   \n",
       "25%      12.000000    1364.000000                2.000000         2.000000   \n",
       "50%      18.000000    2319.500000                3.000000         3.000000   \n",
       "75%      24.000000    3965.250000                4.000000         4.000000   \n",
       "max      72.000000   18424.000000                4.000000         4.000000   \n",
       "\n",
       "               age  existing_credits  num_dependents  \n",
       "count  1000.000000       1000.000000     1000.000000  \n",
       "mean     35.546000          1.407000        1.155000  \n",
       "std      11.375469          0.577654        0.362086  \n",
       "min      19.000000          1.000000        1.000000  \n",
       "25%      27.000000          1.000000        1.000000  \n",
       "50%      33.000000          1.000000        1.000000  \n",
       "75%      42.000000          2.000000        1.000000  \n",
       "max      75.000000          4.000000        2.000000  "
      ]
     },
     "execution_count": 5,
     "metadata": {},
     "output_type": "execute_result"
    }
   ],
   "source": [
    "df.describe()"
   ]
  },
  {
   "cell_type": "code",
   "execution_count": 6,
   "metadata": {},
   "outputs": [
    {
     "data": {
      "text/html": [
       "<div>\n",
       "<style scoped>\n",
       "    .dataframe tbody tr th:only-of-type {\n",
       "        vertical-align: middle;\n",
       "    }\n",
       "\n",
       "    .dataframe tbody tr th {\n",
       "        vertical-align: top;\n",
       "    }\n",
       "\n",
       "    .dataframe thead th {\n",
       "        text-align: right;\n",
       "    }\n",
       "</style>\n",
       "<table border=\"1\" class=\"dataframe\">\n",
       "  <thead>\n",
       "    <tr style=\"text-align: right;\">\n",
       "      <th></th>\n",
       "      <th>checking_status</th>\n",
       "      <th>credit_history</th>\n",
       "      <th>purpose</th>\n",
       "      <th>savings_status</th>\n",
       "      <th>employment</th>\n",
       "      <th>personal_status</th>\n",
       "      <th>other_parties</th>\n",
       "      <th>property_magnitude</th>\n",
       "      <th>other_payment_plans</th>\n",
       "      <th>housing</th>\n",
       "      <th>job</th>\n",
       "      <th>own_telephone</th>\n",
       "      <th>foreign_worker</th>\n",
       "      <th>class</th>\n",
       "    </tr>\n",
       "  </thead>\n",
       "  <tbody>\n",
       "    <tr>\n",
       "      <th>count</th>\n",
       "      <td>1000</td>\n",
       "      <td>978</td>\n",
       "      <td>1000</td>\n",
       "      <td>1000</td>\n",
       "      <td>1000</td>\n",
       "      <td>1000</td>\n",
       "      <td>1000</td>\n",
       "      <td>981</td>\n",
       "      <td>1000</td>\n",
       "      <td>1000</td>\n",
       "      <td>1000</td>\n",
       "      <td>966</td>\n",
       "      <td>1000</td>\n",
       "      <td>1000</td>\n",
       "    </tr>\n",
       "    <tr>\n",
       "      <th>unique</th>\n",
       "      <td>4</td>\n",
       "      <td>5</td>\n",
       "      <td>10</td>\n",
       "      <td>5</td>\n",
       "      <td>5</td>\n",
       "      <td>4</td>\n",
       "      <td>3</td>\n",
       "      <td>4</td>\n",
       "      <td>3</td>\n",
       "      <td>3</td>\n",
       "      <td>4</td>\n",
       "      <td>2</td>\n",
       "      <td>2</td>\n",
       "      <td>2</td>\n",
       "    </tr>\n",
       "    <tr>\n",
       "      <th>top</th>\n",
       "      <td>'no checking'</td>\n",
       "      <td>'existing paid'</td>\n",
       "      <td>radio/tv</td>\n",
       "      <td>&lt;100</td>\n",
       "      <td>1&lt;=X&lt;4</td>\n",
       "      <td>'male single'</td>\n",
       "      <td>none</td>\n",
       "      <td>car</td>\n",
       "      <td>none</td>\n",
       "      <td>own</td>\n",
       "      <td>skilled</td>\n",
       "      <td>none</td>\n",
       "      <td>yes</td>\n",
       "      <td>good</td>\n",
       "    </tr>\n",
       "    <tr>\n",
       "      <th>freq</th>\n",
       "      <td>394</td>\n",
       "      <td>523</td>\n",
       "      <td>280</td>\n",
       "      <td>603</td>\n",
       "      <td>339</td>\n",
       "      <td>548</td>\n",
       "      <td>907</td>\n",
       "      <td>322</td>\n",
       "      <td>814</td>\n",
       "      <td>713</td>\n",
       "      <td>630</td>\n",
       "      <td>574</td>\n",
       "      <td>963</td>\n",
       "      <td>700</td>\n",
       "    </tr>\n",
       "  </tbody>\n",
       "</table>\n",
       "</div>"
      ],
      "text/plain": [
       "       checking_status   credit_history   purpose savings_status employment  \\\n",
       "count             1000              978      1000           1000       1000   \n",
       "unique               4                5        10              5          5   \n",
       "top      'no checking'  'existing paid'  radio/tv           <100     1<=X<4   \n",
       "freq               394              523       280            603        339   \n",
       "\n",
       "       personal_status other_parties property_magnitude other_payment_plans  \\\n",
       "count             1000          1000                981                1000   \n",
       "unique               4             3                  4                   3   \n",
       "top      'male single'          none                car                none   \n",
       "freq               548           907                322                 814   \n",
       "\n",
       "       housing      job own_telephone foreign_worker class  \n",
       "count     1000     1000           966           1000  1000  \n",
       "unique       3        4             2              2     2  \n",
       "top        own  skilled          none            yes  good  \n",
       "freq       713      630           574            963   700  "
      ]
     },
     "execution_count": 6,
     "metadata": {},
     "output_type": "execute_result"
    }
   ],
   "source": [
    "df.describe(include=[np.object]) "
   ]
  },
  {
   "cell_type": "code",
   "execution_count": 7,
   "metadata": {},
   "outputs": [
    {
     "data": {
      "text/html": [
       "<div>\n",
       "<style scoped>\n",
       "    .dataframe tbody tr th:only-of-type {\n",
       "        vertical-align: middle;\n",
       "    }\n",
       "\n",
       "    .dataframe tbody tr th {\n",
       "        vertical-align: top;\n",
       "    }\n",
       "\n",
       "    .dataframe thead th {\n",
       "        text-align: right;\n",
       "    }\n",
       "</style>\n",
       "<table border=\"1\" class=\"dataframe\">\n",
       "  <thead>\n",
       "    <tr style=\"text-align: right;\">\n",
       "      <th></th>\n",
       "      <th>duration</th>\n",
       "      <th>credit_amount</th>\n",
       "      <th>installment_commitment</th>\n",
       "      <th>residence_since</th>\n",
       "      <th>age</th>\n",
       "      <th>existing_credits</th>\n",
       "      <th>num_dependents</th>\n",
       "    </tr>\n",
       "  </thead>\n",
       "  <tbody>\n",
       "    <tr>\n",
       "      <th>duration</th>\n",
       "      <td>1.000000</td>\n",
       "      <td>0.624826</td>\n",
       "      <td>0.074749</td>\n",
       "      <td>0.034067</td>\n",
       "      <td>-0.036136</td>\n",
       "      <td>-0.011284</td>\n",
       "      <td>-0.023834</td>\n",
       "    </tr>\n",
       "    <tr>\n",
       "      <th>credit_amount</th>\n",
       "      <td>0.624826</td>\n",
       "      <td>1.000000</td>\n",
       "      <td>-0.271588</td>\n",
       "      <td>0.025174</td>\n",
       "      <td>0.027152</td>\n",
       "      <td>0.023505</td>\n",
       "      <td>0.014752</td>\n",
       "    </tr>\n",
       "    <tr>\n",
       "      <th>installment_commitment</th>\n",
       "      <td>0.074749</td>\n",
       "      <td>-0.271588</td>\n",
       "      <td>1.000000</td>\n",
       "      <td>0.049302</td>\n",
       "      <td>0.058266</td>\n",
       "      <td>0.021669</td>\n",
       "      <td>-0.071207</td>\n",
       "    </tr>\n",
       "    <tr>\n",
       "      <th>residence_since</th>\n",
       "      <td>0.034067</td>\n",
       "      <td>0.025174</td>\n",
       "      <td>0.049302</td>\n",
       "      <td>1.000000</td>\n",
       "      <td>0.266419</td>\n",
       "      <td>0.089625</td>\n",
       "      <td>0.042643</td>\n",
       "    </tr>\n",
       "    <tr>\n",
       "      <th>age</th>\n",
       "      <td>-0.036136</td>\n",
       "      <td>0.027152</td>\n",
       "      <td>0.058266</td>\n",
       "      <td>0.266419</td>\n",
       "      <td>1.000000</td>\n",
       "      <td>0.149254</td>\n",
       "      <td>0.118201</td>\n",
       "    </tr>\n",
       "    <tr>\n",
       "      <th>existing_credits</th>\n",
       "      <td>-0.011284</td>\n",
       "      <td>0.023505</td>\n",
       "      <td>0.021669</td>\n",
       "      <td>0.089625</td>\n",
       "      <td>0.149254</td>\n",
       "      <td>1.000000</td>\n",
       "      <td>0.109667</td>\n",
       "    </tr>\n",
       "    <tr>\n",
       "      <th>num_dependents</th>\n",
       "      <td>-0.023834</td>\n",
       "      <td>0.014752</td>\n",
       "      <td>-0.071207</td>\n",
       "      <td>0.042643</td>\n",
       "      <td>0.118201</td>\n",
       "      <td>0.109667</td>\n",
       "      <td>1.000000</td>\n",
       "    </tr>\n",
       "  </tbody>\n",
       "</table>\n",
       "</div>"
      ],
      "text/plain": [
       "                        duration  credit_amount  installment_commitment  \\\n",
       "duration                1.000000       0.624826                0.074749   \n",
       "credit_amount           0.624826       1.000000               -0.271588   \n",
       "installment_commitment  0.074749      -0.271588                1.000000   \n",
       "residence_since         0.034067       0.025174                0.049302   \n",
       "age                    -0.036136       0.027152                0.058266   \n",
       "existing_credits       -0.011284       0.023505                0.021669   \n",
       "num_dependents         -0.023834       0.014752               -0.071207   \n",
       "\n",
       "                        residence_since       age  existing_credits  \\\n",
       "duration                       0.034067 -0.036136         -0.011284   \n",
       "credit_amount                  0.025174  0.027152          0.023505   \n",
       "installment_commitment         0.049302  0.058266          0.021669   \n",
       "residence_since                1.000000  0.266419          0.089625   \n",
       "age                            0.266419  1.000000          0.149254   \n",
       "existing_credits               0.089625  0.149254          1.000000   \n",
       "num_dependents                 0.042643  0.118201          0.109667   \n",
       "\n",
       "                        num_dependents  \n",
       "duration                     -0.023834  \n",
       "credit_amount                 0.014752  \n",
       "installment_commitment       -0.071207  \n",
       "residence_since               0.042643  \n",
       "age                           0.118201  \n",
       "existing_credits              0.109667  \n",
       "num_dependents                1.000000  "
      ]
     },
     "execution_count": 7,
     "metadata": {},
     "output_type": "execute_result"
    }
   ],
   "source": [
    "# Melihat korelasi antar variable numeric\n",
    "df.corr()"
   ]
  },
  {
   "cell_type": "markdown",
   "metadata": {},
   "source": [
    "# 1. Mengatasi Missing Data"
   ]
  },
  {
   "cell_type": "code",
   "execution_count": 8,
   "metadata": {},
   "outputs": [
    {
     "data": {
      "text/plain": [
       "array([\"'critical/other existing credit'\", \"'existing paid'\",\n",
       "       \"'delayed previously'\", \"'no credits/all paid'\", \"'all paid'\", nan], dtype=object)"
      ]
     },
     "execution_count": 8,
     "metadata": {},
     "output_type": "execute_result"
    }
   ],
   "source": [
    "#Cek nilai unik dari credit_history\n",
    "df['credit_history'].unique()"
   ]
  },
  {
   "cell_type": "code",
   "execution_count": 9,
   "metadata": {},
   "outputs": [
    {
     "data": {
      "text/plain": [
       "'existing paid'                     523\n",
       "'critical/other existing credit'    280\n",
       "'delayed previously'                 86\n",
       "'all paid'                           49\n",
       "'no credits/all paid'                40\n",
       "Name: credit_history, dtype: int64"
      ]
     },
     "execution_count": 9,
     "metadata": {},
     "output_type": "execute_result"
    }
   ],
   "source": [
    "#Salah satu cara untuk mengatasi missing data adalah dengan mengisi data kosong dengan nilai yang sering muncul\n",
    "df['credit_history'].value_counts()"
   ]
  },
  {
   "cell_type": "code",
   "execution_count": 10,
   "metadata": {
    "collapsed": true
   },
   "outputs": [],
   "source": [
    "# Copy dataframe df menjadi df_missing\n",
    "df_missing = df"
   ]
  },
  {
   "cell_type": "code",
   "execution_count": 11,
   "metadata": {
    "collapsed": true
   },
   "outputs": [],
   "source": [
    "# Pada credit_history terlihat 52% data adalah 'existing paid'. \n",
    "# Sehingga kita akan mengisi missing value di credit_history menjadi 'existing_paid'\n",
    "df_missing[\"credit_history\"] = df_missing[\"credit_history\"].fillna(\"existing_paid\")"
   ]
  },
  {
   "cell_type": "code",
   "execution_count": 12,
   "metadata": {
    "collapsed": true
   },
   "outputs": [],
   "source": [
    "# Pada credit ammount kita akan mengisi missing value dengan median nya. \n",
    "# inplace akan membuat proses fillna menjadi mutable\n",
    "df_missing[\"credit_amount\"].fillna(df_missing[\"credit_amount\"].median(), inplace=True)"
   ]
  },
  {
   "cell_type": "code",
   "execution_count": 13,
   "metadata": {
    "collapsed": true
   },
   "outputs": [],
   "source": [
    "# Untuk mengisi property_magnitute, kita menggunakan forward-fill untuk mempropagasi dari nilai sebelumnya\n",
    "df_missing['property_magnitude'].fillna(method='ffill', inplace=True)"
   ]
  },
  {
   "cell_type": "code",
   "execution_count": 14,
   "metadata": {
    "collapsed": true
   },
   "outputs": [],
   "source": [
    "# Untuk mengisi own_telephone, kita menggunakan backward-fill untuk mempropagasi dari nilai sebelumnya\n",
    "df_missing['own_telephone'].fillna(method='bfill', inplace=True)"
   ]
  },
  {
   "cell_type": "code",
   "execution_count": 15,
   "metadata": {},
   "outputs": [
    {
     "name": "stdout",
     "output_type": "stream",
     "text": [
      "<class 'pandas.core.frame.DataFrame'>\n",
      "RangeIndex: 1000 entries, 0 to 999\n",
      "Data columns (total 21 columns):\n",
      "checking_status           1000 non-null object\n",
      "duration                  1000 non-null int64\n",
      "credit_history            1000 non-null object\n",
      "purpose                   1000 non-null object\n",
      "credit_amount             1000 non-null float64\n",
      "savings_status            1000 non-null object\n",
      "employment                1000 non-null object\n",
      "installment_commitment    1000 non-null int64\n",
      "personal_status           1000 non-null object\n",
      "other_parties             1000 non-null object\n",
      "residence_since           1000 non-null int64\n",
      "property_magnitude        1000 non-null object\n",
      "age                       1000 non-null int64\n",
      "other_payment_plans       1000 non-null object\n",
      "housing                   1000 non-null object\n",
      "existing_credits          1000 non-null int64\n",
      "job                       1000 non-null object\n",
      "num_dependents            1000 non-null int64\n",
      "own_telephone             1000 non-null object\n",
      "foreign_worker            1000 non-null object\n",
      "class                     1000 non-null object\n",
      "dtypes: float64(1), int64(6), object(14)\n",
      "memory usage: 164.1+ KB\n"
     ]
    }
   ],
   "source": [
    "df_missing.info()"
   ]
  },
  {
   "cell_type": "markdown",
   "metadata": {},
   "source": [
    "## 2. Transformasi Data Menjadi Numeric"
   ]
  },
  {
   "cell_type": "markdown",
   "metadata": {},
   "source": [
    "Untuk merubah data object menjadi numeric, alternatifnya adalah dengan mengubahnya menjadi categorical data atau dummy variable. Disini kita akan mengubahnya menjadi dummy variable. Untuk penjelasannya bisa lihat di [link](https://stats.stackexchange.com/questions/115049/why-do-we-need-to-dummy-code-categorical-variables)"
   ]
  },
  {
   "cell_type": "code",
   "execution_count": 16,
   "metadata": {
    "collapsed": true
   },
   "outputs": [],
   "source": [
    "df_transform = df_missing"
   ]
  },
  {
   "cell_type": "markdown",
   "metadata": {},
   "source": [
    "## 2.a Dummy Variable"
   ]
  },
  {
   "cell_type": "code",
   "execution_count": 17,
   "metadata": {
    "collapsed": true
   },
   "outputs": [],
   "source": [
    "checking_status_dummy  = pd.get_dummies(df_transform['checking_status'], prefix='checking_status')"
   ]
  },
  {
   "cell_type": "code",
   "execution_count": 18,
   "metadata": {},
   "outputs": [
    {
     "data": {
      "text/html": [
       "<div>\n",
       "<style scoped>\n",
       "    .dataframe tbody tr th:only-of-type {\n",
       "        vertical-align: middle;\n",
       "    }\n",
       "\n",
       "    .dataframe tbody tr th {\n",
       "        vertical-align: top;\n",
       "    }\n",
       "\n",
       "    .dataframe thead th {\n",
       "        text-align: right;\n",
       "    }\n",
       "</style>\n",
       "<table border=\"1\" class=\"dataframe\">\n",
       "  <thead>\n",
       "    <tr style=\"text-align: right;\">\n",
       "      <th></th>\n",
       "      <th>checking_status_'no checking'</th>\n",
       "      <th>checking_status_0&lt;=X&lt;200</th>\n",
       "      <th>checking_status_&lt;0</th>\n",
       "      <th>checking_status_&gt;=200</th>\n",
       "    </tr>\n",
       "  </thead>\n",
       "  <tbody>\n",
       "    <tr>\n",
       "      <th>0</th>\n",
       "      <td>0</td>\n",
       "      <td>0</td>\n",
       "      <td>1</td>\n",
       "      <td>0</td>\n",
       "    </tr>\n",
       "    <tr>\n",
       "      <th>1</th>\n",
       "      <td>0</td>\n",
       "      <td>1</td>\n",
       "      <td>0</td>\n",
       "      <td>0</td>\n",
       "    </tr>\n",
       "    <tr>\n",
       "      <th>2</th>\n",
       "      <td>1</td>\n",
       "      <td>0</td>\n",
       "      <td>0</td>\n",
       "      <td>0</td>\n",
       "    </tr>\n",
       "    <tr>\n",
       "      <th>3</th>\n",
       "      <td>0</td>\n",
       "      <td>0</td>\n",
       "      <td>1</td>\n",
       "      <td>0</td>\n",
       "    </tr>\n",
       "    <tr>\n",
       "      <th>4</th>\n",
       "      <td>0</td>\n",
       "      <td>0</td>\n",
       "      <td>1</td>\n",
       "      <td>0</td>\n",
       "    </tr>\n",
       "  </tbody>\n",
       "</table>\n",
       "</div>"
      ],
      "text/plain": [
       "   checking_status_'no checking'  checking_status_0<=X<200  \\\n",
       "0                              0                         0   \n",
       "1                              0                         1   \n",
       "2                              1                         0   \n",
       "3                              0                         0   \n",
       "4                              0                         0   \n",
       "\n",
       "   checking_status_<0  checking_status_>=200  \n",
       "0                   1                      0  \n",
       "1                   0                      0  \n",
       "2                   0                      0  \n",
       "3                   1                      0  \n",
       "4                   1                      0  "
      ]
     },
     "execution_count": 18,
     "metadata": {},
     "output_type": "execute_result"
    }
   ],
   "source": [
    "checking_status_dummy.head()"
   ]
  },
  {
   "cell_type": "code",
   "execution_count": 19,
   "metadata": {
    "collapsed": true
   },
   "outputs": [],
   "source": [
    "# Salah satu dummy variable bisa dihilangkan, dengan asumsi apabila dummy variable yang lain 0, \n",
    "# maka sebenarnya variable inilah yang berlaku\n",
    "checking_status_dummy.drop(['checking_status_>=200'], axis=1, inplace=True)"
   ]
  },
  {
   "cell_type": "markdown",
   "metadata": {},
   "source": [
    "<div class=\"alert alert-block alert-info\">\n",
    "Gunakan hal yang sama untuk credit_history, purpose, savings_status, employment, personal_status, other_parties, property_magnitude, other_payment_plans, housing, job, own_telephone, foreign_worker</div>"
   ]
  },
  {
   "cell_type": "code",
   "execution_count": 20,
   "metadata": {},
   "outputs": [
    {
     "data": {
      "text/plain": [
       "array([\"'critical/other existing credit'\", \"'existing paid'\",\n",
       "       \"'delayed previously'\", \"'no credits/all paid'\", \"'all paid'\",\n",
       "       'existing_paid'], dtype=object)"
      ]
     },
     "execution_count": 20,
     "metadata": {},
     "output_type": "execute_result"
    }
   ],
   "source": [
    "#credit_history\n",
    "df_transform['credit_history'].unique()"
   ]
  },
  {
   "cell_type": "code",
   "execution_count": 21,
   "metadata": {
    "collapsed": true
   },
   "outputs": [],
   "source": [
    "credit_history_dummy  = pd.get_dummies(df_transform['credit_history'], prefix='credit_history')\n",
    "credit_history_dummy.drop(['credit_history_existing_paid'], axis=1, inplace=True)"
   ]
  },
  {
   "cell_type": "code",
   "execution_count": 22,
   "metadata": {},
   "outputs": [
    {
     "data": {
      "text/plain": [
       "array(['radio/tv', 'education', 'furniture/equipment', \"'new car'\",\n",
       "       \"'used car'\", 'business', \"'domestic appliance'\", 'repairs',\n",
       "       'other', 'retraining'], dtype=object)"
      ]
     },
     "execution_count": 22,
     "metadata": {},
     "output_type": "execute_result"
    }
   ],
   "source": [
    "# purpose\n",
    "df_transform['purpose'].unique()"
   ]
  },
  {
   "cell_type": "code",
   "execution_count": 23,
   "metadata": {
    "collapsed": true
   },
   "outputs": [],
   "source": [
    "purpose_dummy  = pd.get_dummies(df_transform['purpose'], prefix='purpose')\n",
    "purpose_dummy.drop(['purpose_retraining'], axis=1, inplace=True)"
   ]
  },
  {
   "cell_type": "code",
   "execution_count": 24,
   "metadata": {},
   "outputs": [
    {
     "data": {
      "text/plain": [
       "array([\"'no known savings'\", '<100', '500<=X<1000', '>=1000', '100<=X<500'], dtype=object)"
      ]
     },
     "execution_count": 24,
     "metadata": {},
     "output_type": "execute_result"
    }
   ],
   "source": [
    "#savings_status\n",
    "df_transform['savings_status'].unique()"
   ]
  },
  {
   "cell_type": "code",
   "execution_count": 25,
   "metadata": {
    "collapsed": true
   },
   "outputs": [],
   "source": [
    "savings_status_dummy  = pd.get_dummies(df_transform['savings_status'], prefix='savings_status')\n",
    "savings_status_dummy.drop(['savings_status_100<=X<500'], axis=1, inplace=True)"
   ]
  },
  {
   "cell_type": "code",
   "execution_count": 26,
   "metadata": {},
   "outputs": [
    {
     "data": {
      "text/plain": [
       "array(['>=7', '1<=X<4', '4<=X<7', 'unemployed', '<1'], dtype=object)"
      ]
     },
     "execution_count": 26,
     "metadata": {},
     "output_type": "execute_result"
    }
   ],
   "source": [
    "# employment\n",
    "df_transform['employment'].unique()"
   ]
  },
  {
   "cell_type": "code",
   "execution_count": 27,
   "metadata": {
    "collapsed": true
   },
   "outputs": [],
   "source": [
    "employment_dummy  = pd.get_dummies(df_transform['employment'], prefix='employment')\n",
    "employment_dummy.drop(['employment_<1'], axis=1, inplace=True)"
   ]
  },
  {
   "cell_type": "code",
   "execution_count": 28,
   "metadata": {},
   "outputs": [
    {
     "data": {
      "text/plain": [
       "array([\"'male single'\", \"'female div/dep/mar'\", \"'male div/sep'\",\n",
       "       \"'male mar/wid'\"], dtype=object)"
      ]
     },
     "execution_count": 28,
     "metadata": {},
     "output_type": "execute_result"
    }
   ],
   "source": [
    "#personal_status\n",
    "df_transform['personal_status'].unique()"
   ]
  },
  {
   "cell_type": "code",
   "execution_count": 29,
   "metadata": {
    "collapsed": true
   },
   "outputs": [],
   "source": [
    "personal_status_dummy  = pd.get_dummies(df_transform['personal_status'], prefix='personal_status')\n",
    "personal_status_dummy.drop([\"personal_status_'male mar/wid'\"], axis=1, inplace=True)"
   ]
  },
  {
   "cell_type": "code",
   "execution_count": 30,
   "metadata": {},
   "outputs": [
    {
     "data": {
      "text/plain": [
       "array(['none', 'guarantor', \"'co applicant'\"], dtype=object)"
      ]
     },
     "execution_count": 30,
     "metadata": {},
     "output_type": "execute_result"
    }
   ],
   "source": [
    "#other_parties\n",
    "df_transform['other_parties'].unique()"
   ]
  },
  {
   "cell_type": "code",
   "execution_count": 31,
   "metadata": {
    "collapsed": true
   },
   "outputs": [],
   "source": [
    "other_parties_dummy  = pd.get_dummies(df_transform['other_parties'], prefix='other_parties')\n",
    "other_parties_dummy.drop([\"other_parties_none\"], axis=1, inplace=True)"
   ]
  },
  {
   "cell_type": "code",
   "execution_count": 32,
   "metadata": {},
   "outputs": [
    {
     "data": {
      "text/plain": [
       "array([\"'real estate'\", \"'life insurance'\", \"'no known property'\", 'car'], dtype=object)"
      ]
     },
     "execution_count": 32,
     "metadata": {},
     "output_type": "execute_result"
    }
   ],
   "source": [
    "#property_magnitude\n",
    "df_transform['property_magnitude'].unique()"
   ]
  },
  {
   "cell_type": "code",
   "execution_count": 33,
   "metadata": {
    "collapsed": true
   },
   "outputs": [],
   "source": [
    "property_magnitude_dummy  = pd.get_dummies(df_transform['property_magnitude'], prefix='property_magnitude')\n",
    "property_magnitude_dummy.drop([\"property_magnitude_car\"], axis=1, inplace=True)"
   ]
  },
  {
   "cell_type": "code",
   "execution_count": 34,
   "metadata": {},
   "outputs": [
    {
     "data": {
      "text/plain": [
       "array(['none', 'bank', 'stores'], dtype=object)"
      ]
     },
     "execution_count": 34,
     "metadata": {},
     "output_type": "execute_result"
    }
   ],
   "source": [
    "#other_payment_plans\n",
    "df_transform['other_payment_plans'].unique()"
   ]
  },
  {
   "cell_type": "code",
   "execution_count": 35,
   "metadata": {
    "collapsed": true
   },
   "outputs": [],
   "source": [
    "other_payment_plans_dummy  = pd.get_dummies(df_transform['other_payment_plans'], prefix='other_payment_plans')\n",
    "other_payment_plans_dummy.drop([\"other_payment_plans_none\"], axis=1, inplace=True)"
   ]
  },
  {
   "cell_type": "code",
   "execution_count": 36,
   "metadata": {},
   "outputs": [
    {
     "data": {
      "text/plain": [
       "array(['own', \"'for free'\", 'rent'], dtype=object)"
      ]
     },
     "execution_count": 36,
     "metadata": {},
     "output_type": "execute_result"
    }
   ],
   "source": [
    "#housing\n",
    "df_transform['housing'].unique()"
   ]
  },
  {
   "cell_type": "code",
   "execution_count": 37,
   "metadata": {
    "collapsed": true
   },
   "outputs": [],
   "source": [
    "housing_dummy  = pd.get_dummies(df_transform['housing'], prefix='housing')\n",
    "housing_dummy.drop([\"housing_rent\"], axis=1, inplace=True)"
   ]
  },
  {
   "cell_type": "code",
   "execution_count": 38,
   "metadata": {},
   "outputs": [
    {
     "data": {
      "text/plain": [
       "array(['skilled', \"'unskilled resident'\", \"'high qualif/self emp/mgmt'\",\n",
       "       \"'unemp/unskilled non res'\"], dtype=object)"
      ]
     },
     "execution_count": 38,
     "metadata": {},
     "output_type": "execute_result"
    }
   ],
   "source": [
    "#job, own_telephone, foreign_worker\n",
    "df_transform['job'].unique()"
   ]
  },
  {
   "cell_type": "code",
   "execution_count": 39,
   "metadata": {
    "collapsed": true
   },
   "outputs": [],
   "source": [
    "job_dummy  = pd.get_dummies(df_transform['job'], prefix='job')\n",
    "job_dummy.drop([\"job_skilled\"], axis=1, inplace=True)"
   ]
  },
  {
   "cell_type": "markdown",
   "metadata": {},
   "source": [
    "## 2.b Mapping"
   ]
  },
  {
   "cell_type": "code",
   "execution_count": 40,
   "metadata": {},
   "outputs": [
    {
     "data": {
      "text/plain": [
       "array(['yes', 'none'], dtype=object)"
      ]
     },
     "execution_count": 40,
     "metadata": {},
     "output_type": "execute_result"
    }
   ],
   "source": [
    "#own_telephone\n",
    "df_transform['own_telephone'].unique()"
   ]
  },
  {
   "cell_type": "markdown",
   "metadata": {},
   "source": [
    "Pada data diatas terlihat bahwa nilai variable hanya ada dua : _yes_ dan _none_. Di kasus ini kita bisa menggunakan dummy variable, atau menggunakan mapping. Keduanya akan menghasilkan output yang sama, akan tetapi mapping membutuhkan kode yang lebih singkat"
   ]
  },
  {
   "cell_type": "code",
   "execution_count": 41,
   "metadata": {
    "collapsed": true
   },
   "outputs": [],
   "source": [
    "phone_map = {'yes' : 1, 'none' : 0}\n",
    "df_transform['own_telephone'] = df_transform['own_telephone'].map(phone_map)"
   ]
  },
  {
   "cell_type": "code",
   "execution_count": 42,
   "metadata": {},
   "outputs": [
    {
     "data": {
      "text/plain": [
       "array(['yes', 'no'], dtype=object)"
      ]
     },
     "execution_count": 42,
     "metadata": {},
     "output_type": "execute_result"
    }
   ],
   "source": [
    "# foreign_worker\n",
    "df_transform['foreign_worker'].unique()"
   ]
  },
  {
   "cell_type": "code",
   "execution_count": 43,
   "metadata": {},
   "outputs": [
    {
     "data": {
      "text/plain": [
       "yes    963\n",
       "no      37\n",
       "Name: foreign_worker, dtype: int64"
      ]
     },
     "execution_count": 43,
     "metadata": {},
     "output_type": "execute_result"
    }
   ],
   "source": [
    "df_transform['foreign_worker'].value_counts()"
   ]
  },
  {
   "cell_type": "code",
   "execution_count": 44,
   "metadata": {
    "collapsed": true
   },
   "outputs": [],
   "source": [
    "worker_map = {'yes' : 1, 'no' : 0}\n",
    "df_transform['foreign_worker'] = df_transform['foreign_worker'].map(worker_map)"
   ]
  },
  {
   "cell_type": "markdown",
   "metadata": {},
   "source": [
    "## 2.c Join dummy variable "
   ]
  },
  {
   "cell_type": "markdown",
   "metadata": {},
   "source": [
    "Tambahkan dummy variable ke dataframe dan hapus column parent nya"
   ]
  },
  {
   "cell_type": "code",
   "execution_count": 45,
   "metadata": {
    "collapsed": true
   },
   "outputs": [],
   "source": [
    "#df_transform.info()"
   ]
  },
  {
   "cell_type": "code",
   "execution_count": 46,
   "metadata": {},
   "outputs": [
    {
     "name": "stdout",
     "output_type": "stream",
     "text": [
      "['checking_status_dummy', 'credit_history_dummy', 'employment_dummy', 'housing_dummy', 'job_dummy', 'other_parties_dummy', 'other_payment_plans_dummy', 'personal_status_dummy', 'property_magnitude_dummy', 'purpose_dummy', 'savings_status_dummy']\n"
     ]
    }
   ],
   "source": [
    "dummy_list = list(filter(lambda x: '_dummy' in x, dir()))\n",
    "\n",
    "print(dummy_list)\n",
    "\n",
    "for dummy in dummy_list:\n",
    "    df_dummy = eval(dummy)\n",
    "    #parent_dummy = eval(dummy.replace('_dummy',''))\n",
    "    df_transform = df_transform.join(df_dummy)\n",
    "    df_transform = df_transform.drop([dummy.replace('_dummy','')], axis=1)"
   ]
  },
  {
   "cell_type": "markdown",
   "metadata": {},
   "source": [
    "<div class=\"alert alert-block alert-warning\">\n",
    "  **Class** adalah label dari data ini (output yang akan diprediksi). Dan ini pun memerlukan mapping agar bernilai numerik\n",
    "</div>"
   ]
  },
  {
   "cell_type": "code",
   "execution_count": 47,
   "metadata": {},
   "outputs": [
    {
     "data": {
      "text/plain": [
       "array(['good', 'bad'], dtype=object)"
      ]
     },
     "execution_count": 47,
     "metadata": {},
     "output_type": "execute_result"
    }
   ],
   "source": [
    "df_transform['class'].unique()"
   ]
  },
  {
   "cell_type": "code",
   "execution_count": 48,
   "metadata": {
    "collapsed": true
   },
   "outputs": [],
   "source": [
    "class_map = {'good' : 1, 'bad' : 0}\n",
    "df_transform['class'] = df_transform['class'].map(class_map)"
   ]
  },
  {
   "cell_type": "code",
   "execution_count": 49,
   "metadata": {},
   "outputs": [
    {
     "name": "stdout",
     "output_type": "stream",
     "text": [
      "<class 'pandas.core.frame.DataFrame'>\n",
      "RangeIndex: 1000 entries, 0 to 999\n",
      "Data columns (total 50 columns):\n",
      "duration                                           1000 non-null int64\n",
      "credit_amount                                      1000 non-null float64\n",
      "installment_commitment                             1000 non-null int64\n",
      "residence_since                                    1000 non-null int64\n",
      "age                                                1000 non-null int64\n",
      "existing_credits                                   1000 non-null int64\n",
      "num_dependents                                     1000 non-null int64\n",
      "own_telephone                                      1000 non-null int64\n",
      "foreign_worker                                     1000 non-null int64\n",
      "class                                              1000 non-null int64\n",
      "checking_status_'no checking'                      1000 non-null uint8\n",
      "checking_status_0<=X<200                           1000 non-null uint8\n",
      "checking_status_<0                                 1000 non-null uint8\n",
      "credit_history_'all paid'                          1000 non-null uint8\n",
      "credit_history_'critical/other existing credit'    1000 non-null uint8\n",
      "credit_history_'delayed previously'                1000 non-null uint8\n",
      "credit_history_'existing paid'                     1000 non-null uint8\n",
      "credit_history_'no credits/all paid'               1000 non-null uint8\n",
      "employment_1<=X<4                                  1000 non-null uint8\n",
      "employment_4<=X<7                                  1000 non-null uint8\n",
      "employment_>=7                                     1000 non-null uint8\n",
      "employment_unemployed                              1000 non-null uint8\n",
      "housing_'for free'                                 1000 non-null uint8\n",
      "housing_own                                        1000 non-null uint8\n",
      "job_'high qualif/self emp/mgmt'                    1000 non-null uint8\n",
      "job_'unemp/unskilled non res'                      1000 non-null uint8\n",
      "job_'unskilled resident'                           1000 non-null uint8\n",
      "other_parties_'co applicant'                       1000 non-null uint8\n",
      "other_parties_guarantor                            1000 non-null uint8\n",
      "other_payment_plans_bank                           1000 non-null uint8\n",
      "other_payment_plans_stores                         1000 non-null uint8\n",
      "personal_status_'female div/dep/mar'               1000 non-null uint8\n",
      "personal_status_'male div/sep'                     1000 non-null uint8\n",
      "personal_status_'male single'                      1000 non-null uint8\n",
      "property_magnitude_'life insurance'                1000 non-null uint8\n",
      "property_magnitude_'no known property'             1000 non-null uint8\n",
      "property_magnitude_'real estate'                   1000 non-null uint8\n",
      "purpose_'domestic appliance'                       1000 non-null uint8\n",
      "purpose_'new car'                                  1000 non-null uint8\n",
      "purpose_'used car'                                 1000 non-null uint8\n",
      "purpose_business                                   1000 non-null uint8\n",
      "purpose_education                                  1000 non-null uint8\n",
      "purpose_furniture/equipment                        1000 non-null uint8\n",
      "purpose_other                                      1000 non-null uint8\n",
      "purpose_radio/tv                                   1000 non-null uint8\n",
      "purpose_repairs                                    1000 non-null uint8\n",
      "savings_status_'no known savings'                  1000 non-null uint8\n",
      "savings_status_500<=X<1000                         1000 non-null uint8\n",
      "savings_status_<100                                1000 non-null uint8\n",
      "savings_status_>=1000                              1000 non-null uint8\n",
      "dtypes: float64(1), int64(9), uint8(40)\n",
      "memory usage: 117.3 KB\n"
     ]
    }
   ],
   "source": [
    "df_transform.info()"
   ]
  },
  {
   "cell_type": "markdown",
   "metadata": {},
   "source": [
    "### Additional\n",
    "\n",
    "- Ada kemungkinan beberapa field dianggap tidak diperlukan dalam analisis, field ini dapat dihilangkan"
   ]
  },
  {
   "cell_type": "code",
   "execution_count": 50,
   "metadata": {
    "collapsed": true
   },
   "outputs": [],
   "source": [
    "df_transform.drop(list(df.filter(regex = 'purpose_')), axis=1, inplace=True)"
   ]
  },
  {
   "cell_type": "markdown",
   "metadata": {},
   "source": [
    "- Apabila diperlukan data dapat dinormalisasikan agar memenuhi distribusi normal"
   ]
  },
  {
   "cell_type": "code",
   "execution_count": 51,
   "metadata": {},
   "outputs": [
    {
     "data": {
      "text/plain": [
       "count     1000.000000\n",
       "mean      3233.500000\n",
       "std       2777.531737\n",
       "min        250.000000\n",
       "25%       1375.500000\n",
       "50%       2319.500000\n",
       "75%       3919.000000\n",
       "max      18424.000000\n",
       "Name: credit_amount, dtype: float64"
      ]
     },
     "execution_count": 51,
     "metadata": {},
     "output_type": "execute_result"
    }
   ],
   "source": [
    "df['credit_amount'].describe()"
   ]
  },
  {
   "cell_type": "code",
   "execution_count": 52,
   "metadata": {
    "collapsed": true
   },
   "outputs": [],
   "source": [
    "df_learn = df_transform\n",
    "\n",
    "\n",
    "from sklearn import preprocessing\n",
    "#scaler = preprocessing.StandardScaler()\n",
    "min_max_scaler = preprocessing.MinMaxScaler()\n",
    "\n",
    "#df_learn[['credit_amount']] = scaler.fit_transform(df_learn[['credit_amount']])\n",
    "df_learn[['credit_amount']] = min_max_scaler.fit_transform(df_learn[['credit_amount']])\n"
   ]
  },
  {
   "cell_type": "code",
   "execution_count": 53,
   "metadata": {},
   "outputs": [
    {
     "data": {
      "text/plain": [
       "count     1000.000000\n",
       "mean      3233.500000\n",
       "std       2777.531737\n",
       "min        250.000000\n",
       "25%       1375.500000\n",
       "50%       2319.500000\n",
       "75%       3919.000000\n",
       "max      18424.000000\n",
       "Name: credit_amount, dtype: float64"
      ]
     },
     "execution_count": 53,
     "metadata": {},
     "output_type": "execute_result"
    }
   ],
   "source": [
    "df['credit_amount'].describe()"
   ]
  },
  {
   "cell_type": "markdown",
   "metadata": {},
   "source": [
    "## 3. Machine Learning"
   ]
  },
  {
   "cell_type": "code",
   "execution_count": 54,
   "metadata": {
    "collapsed": true
   },
   "outputs": [],
   "source": [
    "X_Variables = df_learn.drop(['class'], axis=1)\n",
    "Y_Variable = df_learn['class']"
   ]
  },
  {
   "cell_type": "code",
   "execution_count": 55,
   "metadata": {
    "collapsed": true
   },
   "outputs": [],
   "source": [
    "from sklearn.model_selection import train_test_split\n",
    "\n",
    "X_Train, X_Test, Y_Train, Y_Test = train_test_split(X_Variables, Y_Variable, test_size=0.2)"
   ]
  },
  {
   "cell_type": "code",
   "execution_count": 56,
   "metadata": {
    "collapsed": true
   },
   "outputs": [],
   "source": [
    "from sklearn.metrics import accuracy_score"
   ]
  },
  {
   "cell_type": "markdown",
   "metadata": {},
   "source": [
    "## 3.1 Logistic Regression"
   ]
  },
  {
   "cell_type": "code",
   "execution_count": 57,
   "metadata": {},
   "outputs": [
    {
     "name": "stdout",
     "output_type": "stream",
     "text": [
      "0.7925\n"
     ]
    },
    {
     "data": {
      "text/plain": [
       "0.71499999999999997"
      ]
     },
     "execution_count": 57,
     "metadata": {},
     "output_type": "execute_result"
    }
   ],
   "source": [
    "from sklearn.linear_model import LogisticRegression\n",
    "\n",
    "# Logistic Regression\n",
    "logreg = LogisticRegression()\n",
    "\n",
    "#Learn The Model\n",
    "logreg.fit(X_Train, Y_Train)\n",
    "\n",
    "# Check training accuracy\n",
    "logreg.score(X_Train, Y_Train)\n",
    "print(logreg.score(X_Train, Y_Train))\n",
    "\n",
    "# Check tesing accuracy\n",
    "Y_pred_log = logreg.predict(X_Test)\n",
    "print(accuracy_score(Y_Test,logreg.predict(X_Test)))"
   ]
  },
  {
   "cell_type": "markdown",
   "metadata": {},
   "source": [
    "## 3.2 SVM"
   ]
  },
  {
   "cell_type": "code",
   "execution_count": 58,
   "metadata": {},
   "outputs": [
    {
     "name": "stdout",
     "output_type": "stream",
     "text": [
      "0.75875\n"
     ]
    },
    {
     "data": {
      "text/plain": [
       "0.71999999999999997"
      ]
     },
     "execution_count": 58,
     "metadata": {},
     "output_type": "execute_result"
    }
   ],
   "source": [
    "from sklearn.svm import SVC, LinearSVC\n",
    "\n",
    "# Support Vector Machines\n",
    "svc = SVC()\n",
    "svc.fit(X_Train, Y_Train)\n",
    "svc.score(X_Train, Y_Train)\n",
    "print(svc.score(X_Train, Y_Train))\n",
    "\n",
    "Y_pred_svc = svc.predict(X_Test)\n",
    "print(accuracy_score(Y_Test,svc.predict(X_Test)))"
   ]
  },
  {
   "cell_type": "markdown",
   "metadata": {},
   "source": [
    "## 3.3  Random Forest"
   ]
  },
  {
   "cell_type": "code",
   "execution_count": 59,
   "metadata": {},
   "outputs": [
    {
     "name": "stdout",
     "output_type": "stream",
     "text": [
      "1.0\n"
     ]
    },
    {
     "data": {
      "text/plain": [
       "0.745"
      ]
     },
     "execution_count": 59,
     "metadata": {},
     "output_type": "execute_result"
    }
   ],
   "source": [
    "from sklearn.ensemble import RandomForestClassifier\n",
    "\n",
    "# Random Forests\n",
    "random_forest = RandomForestClassifier(n_estimators=100)\n",
    "random_forest.fit(X_Train, Y_Train)\n",
    "random_forest.score(X_Train, Y_Train)\n",
    "print(random_forest.score(X_Train, Y_Train))\n",
    "\n",
    "Y_pred_rf = random_forest.predict(X_Test)\n",
    "print(accuracy_score(Y_Test,random_forest.predict(X_Test)))"
   ]
  },
  {
   "cell_type": "markdown",
   "metadata": {
    "collapsed": true
   },
   "source": [
    "## 3.4 kNN"
   ]
  },
  {
   "cell_type": "code",
   "execution_count": 61,
   "metadata": {},
   "outputs": [
    {
     "name": "stdout",
     "output_type": "stream",
     "text": [
      "0.7725\n"
     ]
    },
    {
     "data": {
      "text/plain": [
       "0.73499999999999999"
      ]
     },
     "execution_count": 61,
     "metadata": {},
     "output_type": "execute_result"
    }
   ],
   "source": [
    "from sklearn.neighbors import KNeighborsClassifier\n",
    "\n",
    "# Fitting k-NN on our scaled data set\n",
    "knn = KNeighborsClassifier(n_neighbors = 5)\n",
    "knn.fit(X_Train, Y_Train)\n",
    "knn.score(X_Train, Y_Train)\n",
    "print(knn.score(X_Train, Y_Train))\n",
    "\n",
    "Y_pred_knn = knn.predict(X_Test)\n",
    "print(accuracy_score(Y_Test,knn.predict(X_Test)))"
   ]
  },
  {
   "cell_type": "markdown",
   "metadata": {},
   "source": [
    "## 3.5 Gaussian Naive Bayes"
   ]
  },
  {
   "cell_type": "code",
   "execution_count": 62,
   "metadata": {},
   "outputs": [
    {
     "name": "stdout",
     "output_type": "stream",
     "text": [
      "0.73625\n",
      "0.69\n"
     ]
    }
   ],
   "source": [
    "from sklearn.naive_bayes import GaussianNB\n",
    "\n",
    "# Gaussian Naive Bayes\n",
    "gaussian = GaussianNB()\n",
    "gaussian.fit(X_Train, Y_Train)\n",
    "gaussian.score(X_Train, Y_Train)\n",
    "print(gaussian.score(X_Train, Y_Train))\n",
    "\n",
    "Y_pred_gaussian = gaussian.predict(X_Test)\n",
    "print(accuracy_score(Y_Test,gaussian.predict(X_Test)))"
   ]
  }
 ],
 "metadata": {
  "kernelspec": {
   "display_name": "tjokroEnv",
   "language": "python",
   "name": "tjokroenv"
  },
  "language_info": {
   "codemirror_mode": {
    "name": "ipython",
    "version": 3
   },
   "file_extension": ".py",
   "mimetype": "text/x-python",
   "name": "python",
   "nbconvert_exporter": "python",
   "pygments_lexer": "ipython3",
   "version": "3.6.1"
  }
 },
 "nbformat": 4,
 "nbformat_minor": 2
}
